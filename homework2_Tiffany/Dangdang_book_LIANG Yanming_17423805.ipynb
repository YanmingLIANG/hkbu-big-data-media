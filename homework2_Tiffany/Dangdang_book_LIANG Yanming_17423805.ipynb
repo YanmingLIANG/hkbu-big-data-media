{
 "cells": [
  {
   "cell_type": "code",
   "execution_count": 1,
   "metadata": {},
   "outputs": [],
   "source": [
    "import requests"
   ]
  },
  {
   "cell_type": "code",
   "execution_count": 2,
   "metadata": {},
   "outputs": [],
   "source": [
    "import bs4"
   ]
  },
  {
   "cell_type": "code",
   "execution_count": 3,
   "metadata": {},
   "outputs": [],
   "source": [
    "import csv"
   ]
  },
  {
   "cell_type": "code",
   "execution_count": 12,
   "metadata": {},
   "outputs": [],
   "source": [
    "r = requests.get('http://bang.dangdang.com/books/newhotsales/01.00.00.00.00.00-recent7-0-0-1-1')"
   ]
  },
  {
   "cell_type": "code",
   "execution_count": 14,
   "metadata": {},
   "outputs": [
    {
     "name": "stderr",
     "output_type": "stream",
     "text": [
      "/Users/p17423805/venv/lib/python3.6/site-packages/bs4/__init__.py:181: UserWarning: No parser was explicitly specified, so I'm using the best available HTML parser for this system (\"html5lib\"). This usually isn't a problem, but if you run this code on another system, or in a different virtual environment, it may use a different parser and behave differently.\n",
      "\n",
      "The code that caused this warning is on line 193 of the file /Library/Frameworks/Python.framework/Versions/3.6/lib/python3.6/runpy.py. To get rid of this warning, change code that looks like this:\n",
      "\n",
      " BeautifulSoup(YOUR_MARKUP})\n",
      "\n",
      "to this:\n",
      "\n",
      " BeautifulSoup(YOUR_MARKUP, \"html5lib\")\n",
      "\n",
      "  markup_type=markup_type))\n"
     ]
    }
   ],
   "source": [
    "from bs4 import BeautifulSoup\n",
    "mypage = BeautifulSoup(r.text)"
   ]
  },
  {
   "cell_type": "code",
   "execution_count": 15,
   "metadata": {},
   "outputs": [],
   "source": [
    "mydiv = mypage.find_all('div', attrs = {'class':'name'})"
   ]
  },
  {
   "cell_type": "code",
   "execution_count": 23,
   "metadata": {},
   "outputs": [
    {
     "data": {
      "text/plain": [
       "<div class=\"name\"><a href=\"http://product.dangdang.com/25213752.html\" target=\"_blank\" title=\"十宗罪6：本书根据真实案例改编而成。十宗罪系列第6季重磅回归（蜘蛛 2018作品）\">十宗罪6：本书根据真实案例改编而成。十宗罪系列第6季重磅回归（<span class=\"dot\">...</span></a></div>"
      ]
     },
     "execution_count": 23,
     "metadata": {},
     "output_type": "execute_result"
    }
   ],
   "source": [
    "mydiv[0]"
   ]
  },
  {
   "cell_type": "code",
   "execution_count": 24,
   "metadata": {},
   "outputs": [
    {
     "data": {
      "text/plain": [
       "'十宗罪6：本书根据真实案例改编而成。十宗罪系列第6季重磅回归（...'"
      ]
     },
     "execution_count": 24,
     "metadata": {},
     "output_type": "execute_result"
    }
   ],
   "source": [
    "mydiv[0].text.strip()"
   ]
  },
  {
   "cell_type": "code",
   "execution_count": 25,
   "metadata": {},
   "outputs": [],
   "source": [
    "titles = []\n",
    "for title in mydiv:\n",
    "    titles.append(title.text.strip())"
   ]
  },
  {
   "cell_type": "code",
   "execution_count": 26,
   "metadata": {},
   "outputs": [
    {
     "data": {
      "text/plain": [
       "['十宗罪6：本书根据真实案例改编而成。十宗罪系列第6季重磅回归（...',\n",
       " '东野圭吾新作：白金数据（凶手，竟然是我自己？！）',\n",
       " '情商',\n",
       " '朋友圈的尖子生',\n",
       " '牧羊少年奇幻之旅',\n",
       " '刺杀骑士团长：村上春树暌违7年新长篇，林少华激赏翻译，书名又译...',\n",
       " '思考世界的孩子（全2册）：问个不停卷+想个不停卷',\n",
       " '默读',\n",
       " '夏日终曲（第90届奥斯卡获奖电影《请以你的名字呼唤我》原著小说...',\n",
       " '房思琪的初恋乐园',\n",
       " '有你真好（全三册）',\n",
       " '苏东坡传（林语堂精装2018版）',\n",
       " '正向沟通：非暴力人际沟通技巧',\n",
       " '小学问 : 解决你的7种人生焦虑(团购请致电010-57993149)',\n",
       " '蒲公英王朝：七王之战（刘宇昆！征服欧美科幻界的华裔作家！）',\n",
       " '投资中不简单的事',\n",
       " '饮食滋味 《黄帝内经》饮食版！畅销书《黄帝内经说什么》作者徐文...',\n",
       " '散落星河的记忆3：化蝶',\n",
       " '新时代面对面――理论热点面对面2018（团购请联系电话010-579931...',\n",
       " '与情绪温柔相处']"
      ]
     },
     "execution_count": 26,
     "metadata": {},
     "output_type": "execute_result"
    }
   ],
   "source": [
    "titles"
   ]
  },
  {
   "cell_type": "code",
   "execution_count": 27,
   "metadata": {},
   "outputs": [],
   "source": [
    "myspan = mypage.find_all('span', attrs = {'class':'price_n'})"
   ]
  },
  {
   "cell_type": "code",
   "execution_count": 28,
   "metadata": {},
   "outputs": [
    {
     "data": {
      "text/plain": [
       "[<span class=\"price_n\">¥31.70</span>,\n",
       " <span class=\"price_n\">¥21.00</span>,\n",
       " <span class=\"price_n\">¥12.99</span>,\n",
       " <span class=\"price_n\">¥26.20</span>,\n",
       " <span class=\"price_n\">¥33.80</span>,\n",
       " <span class=\"price_n\">¥31.20</span>,\n",
       " <span class=\"price_n\">¥76.30</span>,\n",
       " <span class=\"price_n\">¥86.88</span>,\n",
       " <span class=\"price_n\">¥93.20</span>,\n",
       " <span class=\"price_n\">¥31.70</span>,\n",
       " <span class=\"price_n\">¥25.20</span>,\n",
       " <span class=\"price_n\">¥31.00</span>,\n",
       " <span class=\"price_n\">¥9.99</span>,\n",
       " <span class=\"price_n\">¥37.70</span>,\n",
       " <span class=\"price_n\">¥39.00</span>,\n",
       " <span class=\"price_n\">¥26.90</span>,\n",
       " <span class=\"price_n\">¥28.60</span>,\n",
       " <span class=\"price_n\">¥18.99</span>,\n",
       " <span class=\"price_n\">¥46.50</span>,\n",
       " <span class=\"price_n\">¥18.99</span>,\n",
       " <span class=\"price_n\">¥58.30</span>,\n",
       " <span class=\"price_n\">¥42.20</span>,\n",
       " <span class=\"price_n\">¥25.99</span>,\n",
       " <span class=\"price_n\">¥28.00</span>,\n",
       " <span class=\"price_n\">¥16.80</span>,\n",
       " <span class=\"price_n\">¥35.40</span>]"
      ]
     },
     "execution_count": 28,
     "metadata": {},
     "output_type": "execute_result"
    }
   ],
   "source": [
    "myspan"
   ]
  },
  {
   "cell_type": "code",
   "execution_count": 29,
   "metadata": {},
   "outputs": [],
   "source": [
    "prices = []\n",
    "for price in myspan:\n",
    "    prices.append(price.text.strip())"
   ]
  },
  {
   "cell_type": "code",
   "execution_count": 30,
   "metadata": {},
   "outputs": [
    {
     "data": {
      "text/plain": [
       "['¥31.70',\n",
       " '¥21.00',\n",
       " '¥12.99',\n",
       " '¥26.20',\n",
       " '¥33.80',\n",
       " '¥31.20',\n",
       " '¥76.30',\n",
       " '¥86.88',\n",
       " '¥93.20',\n",
       " '¥31.70',\n",
       " '¥25.20',\n",
       " '¥31.00',\n",
       " '¥9.99',\n",
       " '¥37.70',\n",
       " '¥39.00',\n",
       " '¥26.90',\n",
       " '¥28.60',\n",
       " '¥18.99',\n",
       " '¥46.50',\n",
       " '¥18.99',\n",
       " '¥58.30',\n",
       " '¥42.20',\n",
       " '¥25.99',\n",
       " '¥28.00',\n",
       " '¥16.80',\n",
       " '¥35.40']"
      ]
     },
     "execution_count": 30,
     "metadata": {},
     "output_type": "execute_result"
    }
   ],
   "source": [
    "prices"
   ]
  },
  {
   "cell_type": "code",
   "execution_count": 31,
   "metadata": {},
   "outputs": [],
   "source": [
    "myspan1 = mypage.find_all('span', attrs = {'class':'tuijian'})"
   ]
  },
  {
   "cell_type": "code",
   "execution_count": 32,
   "metadata": {},
   "outputs": [
    {
     "data": {
      "text/plain": [
       "[<span class=\"tuijian\">93%推荐</span>,\n",
       " <span class=\"tuijian\">98.2%推荐</span>,\n",
       " <span class=\"tuijian\">99.7%推荐</span>,\n",
       " <span class=\"tuijian\">94.3%推荐</span>,\n",
       " <span class=\"tuijian\">97.8%推荐</span>,\n",
       " <span class=\"tuijian\">100%推荐</span>,\n",
       " <span class=\"tuijian\">98.3%推荐</span>,\n",
       " <span class=\"tuijian\">99.8%推荐</span>,\n",
       " <span class=\"tuijian\">100%推荐</span>,\n",
       " <span class=\"tuijian\">99.2%推荐</span>,\n",
       " <span class=\"tuijian\">100%推荐</span>,\n",
       " <span class=\"tuijian\">98.9%推荐</span>,\n",
       " <span class=\"tuijian\">100%推荐</span>,\n",
       " <span class=\"tuijian\">100%推荐</span>,\n",
       " <span class=\"tuijian\">86%推荐</span>,\n",
       " <span class=\"tuijian\">93.8%推荐</span>,\n",
       " <span class=\"tuijian\">99.1%推荐</span>,\n",
       " <span class=\"tuijian\">100%推荐</span>,\n",
       " <span class=\"tuijian\">89.6%推荐</span>,\n",
       " <span class=\"tuijian\">99.5%推荐</span>]"
      ]
     },
     "execution_count": 32,
     "metadata": {},
     "output_type": "execute_result"
    }
   ],
   "source": [
    "myspan1"
   ]
  },
  {
   "cell_type": "code",
   "execution_count": 33,
   "metadata": {},
   "outputs": [],
   "source": [
    "tuijians = []\n",
    "for tuijian in myspan1:\n",
    "    tuijians.append(tuijian.text.strip())"
   ]
  },
  {
   "cell_type": "code",
   "execution_count": 34,
   "metadata": {},
   "outputs": [
    {
     "data": {
      "text/plain": [
       "['93%推荐',\n",
       " '98.2%推荐',\n",
       " '99.7%推荐',\n",
       " '94.3%推荐',\n",
       " '97.8%推荐',\n",
       " '100%推荐',\n",
       " '98.3%推荐',\n",
       " '99.8%推荐',\n",
       " '100%推荐',\n",
       " '99.2%推荐',\n",
       " '100%推荐',\n",
       " '98.9%推荐',\n",
       " '100%推荐',\n",
       " '100%推荐',\n",
       " '86%推荐',\n",
       " '93.8%推荐',\n",
       " '99.1%推荐',\n",
       " '100%推荐',\n",
       " '89.6%推荐',\n",
       " '99.5%推荐']"
      ]
     },
     "execution_count": 34,
     "metadata": {},
     "output_type": "execute_result"
    }
   ],
   "source": [
    "tuijians"
   ]
  },
  {
   "cell_type": "code",
   "execution_count": 35,
   "metadata": {},
   "outputs": [
    {
     "data": {
      "text/plain": [
       "20"
      ]
     },
     "execution_count": 35,
     "metadata": {},
     "output_type": "execute_result"
    }
   ],
   "source": [
    "len (tuijians)"
   ]
  },
  {
   "cell_type": "code",
   "execution_count": 37,
   "metadata": {},
   "outputs": [
    {
     "data": {
      "text/plain": [
       "[['十宗罪6：本书根据真实案例改编而成。十宗罪系列第6季重磅回归（...', '¥31.70', '93%推荐'],\n",
       " ['东野圭吾新作：白金数据（凶手，竟然是我自己？！）', '¥21.00', '98.2%推荐'],\n",
       " ['情商', '¥12.99', '99.7%推荐'],\n",
       " ['朋友圈的尖子生', '¥26.20', '94.3%推荐'],\n",
       " ['牧羊少年奇幻之旅', '¥33.80', '97.8%推荐'],\n",
       " ['刺杀骑士团长：村上春树暌违7年新长篇，林少华激赏翻译，书名又译...', '¥31.20', '100%推荐'],\n",
       " ['思考世界的孩子（全2册）：问个不停卷+想个不停卷', '¥76.30', '98.3%推荐'],\n",
       " ['默读', '¥86.88', '99.8%推荐'],\n",
       " ['夏日终曲（第90届奥斯卡获奖电影《请以你的名字呼唤我》原著小说...', '¥93.20', '100%推荐'],\n",
       " ['房思琪的初恋乐园', '¥31.70', '99.2%推荐'],\n",
       " ['有你真好（全三册）', '¥25.20', '100%推荐'],\n",
       " ['苏东坡传（林语堂精装2018版）', '¥31.00', '98.9%推荐'],\n",
       " ['正向沟通：非暴力人际沟通技巧', '¥9.99', '100%推荐'],\n",
       " ['小学问 : 解决你的7种人生焦虑(团购请致电010-57993149)', '¥37.70', '100%推荐'],\n",
       " ['蒲公英王朝：七王之战（刘宇昆！征服欧美科幻界的华裔作家！）', '¥39.00', '86%推荐'],\n",
       " ['投资中不简单的事', '¥26.90', '93.8%推荐'],\n",
       " ['饮食滋味 《黄帝内经》饮食版！畅销书《黄帝内经说什么》作者徐文...', '¥28.60', '99.1%推荐'],\n",
       " ['散落星河的记忆3：化蝶', '¥18.99', '100%推荐'],\n",
       " ['新时代面对面――理论热点面对面2018（团购请联系电话010-579931...', '¥46.50', '89.6%推荐'],\n",
       " ['与情绪温柔相处', '¥18.99', '99.5%推荐']]"
      ]
     },
     "execution_count": 37,
     "metadata": {},
     "output_type": "execute_result"
    }
   ],
   "source": [
    "content = []\n",
    "for i in range(0,20):\n",
    "    content.append([titles[i], prices[i], tuijians[i]])\n",
    "    \n",
    "content"
   ]
  },
  {
   "cell_type": "code",
   "execution_count": 39,
   "metadata": {},
   "outputs": [],
   "source": [
    "import csv\n",
    "with open('Dangdang_book.csv', 'w', newline='') as csvfile:\n",
    "    spamwriter = csv.writer(csvfile, delimiter=',',\n",
    "                            quotechar='\"', quoting=csv.QUOTE_MINIMAL)\n",
    "    \n",
    "    spamwriter.writerows(content)"
   ]
  }
 ],
 "metadata": {
  "kernelspec": {
   "display_name": "Python 3",
   "language": "python",
   "name": "python3"
  },
  "language_info": {
   "codemirror_mode": {
    "name": "ipython",
    "version": 3
   },
   "file_extension": ".py",
   "mimetype": "text/x-python",
   "name": "python",
   "nbconvert_exporter": "python",
   "pygments_lexer": "ipython3",
   "version": "3.6.4"
  }
 },
 "nbformat": 4,
 "nbformat_minor": 2
}
